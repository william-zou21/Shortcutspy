{
 "cells": [
  {
   "cell_type": "markdown",
   "metadata": {},
   "source": [
    "Practice with block #2 "
   ]
  },
  {
   "cell_type": "markdown",
   "metadata": {},
   "source": [
    "\"Relational operators and building complex Boolean expressions\""
   ]
  },
  {
   "cell_type": "code",
   "execution_count": 6,
   "metadata": {},
   "outputs": [
    {
     "name": "stdout",
     "output_type": "stream",
     "text": [
      "False\n"
     ]
    }
   ],
   "source": [
    "# key operators for T/F statements\n",
    "x = 3\n",
    "if x == 4:\n",
    "    print('True')\n",
    "else:\n",
    "    print('False')"
   ]
  },
  {
   "cell_type": "code",
   "execution_count": 10,
   "metadata": {},
   "outputs": [],
   "source": [
    "x = ['John', 'Mikey', 'Carl']\n",
    "if 'John' == x:\n",
    "    print(x)\n",
    "else:\n",
    "    False"
   ]
  },
  {
   "cell_type": "markdown",
   "metadata": {},
   "source": [
    "Practice with while loops "
   ]
  },
  {
   "cell_type": "markdown",
   "metadata": {},
   "source": [
    "7.4 - while loop asking for pizza"
   ]
  },
  {
   "cell_type": "code",
   "execution_count": 17,
   "metadata": {},
   "outputs": [
    {
     "name": "stdout",
     "output_type": "stream",
     "text": [
      "Base pizza: Cheese and Sauce\n"
     ]
    },
    {
     "name": "stdin",
     "output_type": "stream",
     "text": [
      "Add More?  Y\n",
      "Enter Topping  Sausage\n"
     ]
    },
    {
     "name": "stdout",
     "output_type": "stream",
     "text": [
      "Adding Sausage\n"
     ]
    },
    {
     "name": "stdin",
     "output_type": "stream",
     "text": [
      "Add More?  Y\n"
     ]
    },
    {
     "name": "stdout",
     "output_type": "stream",
     "text": [
      "Base pizza: Cheese and Sauce\n"
     ]
    },
    {
     "name": "stdin",
     "output_type": "stream",
     "text": [
      "Add More?  Pep\n"
     ]
    },
    {
     "name": "stdout",
     "output_type": "stream",
     "text": [
      "Pizza is done\n"
     ]
    }
   ],
   "source": [
    "pizza_made = True\n",
    "while pizza_made:\n",
    "    print('Base pizza: Cheese and Sauce')\n",
    "    b_r1 = input('Add More? ')\n",
    "    if b_r1 == 'Y':\n",
    "        r2 = input('Enter Topping ')\n",
    "        print(f'Adding {r2.title()}')\n",
    "        b_r3 = input('Add More? ')\n",
    "        if b_r3 == 'Y':\n",
    "            continue\n",
    "        else:\n",
    "            print('Pizza is ready')\n",
    "            break\n",
    "    else:\n",
    "        print('Pizza is done')\n",
    "        break\n",
    "    "
   ]
  },
  {
   "cell_type": "markdown",
   "metadata": {},
   "source": [
    "Take this problem one step further by added a bin for data and returning it"
   ]
  },
  {
   "cell_type": "code",
   "execution_count": 24,
   "metadata": {},
   "outputs": [
    {
     "name": "stdout",
     "output_type": "stream",
     "text": [
      "Current Toppings: \n",
      "['Cheese', 'Sauce', 'Pep']\n"
     ]
    },
    {
     "name": "stdin",
     "output_type": "stream",
     "text": [
      "Add More?  Y\n",
      "Enter Topping  Sausage\n"
     ]
    },
    {
     "name": "stdout",
     "output_type": "stream",
     "text": [
      "Adding Sausage\n",
      "Current Toppings: \n",
      "['Cheese', 'Sauce', 'Pep', 'Sausage']\n"
     ]
    },
    {
     "name": "stdin",
     "output_type": "stream",
     "text": [
      "Add More?  n\n"
     ]
    },
    {
     "name": "stdout",
     "output_type": "stream",
     "text": [
      "Your Pizza: \n",
      "['Cheese', 'Sauce', 'Pep', 'Sausage']\n"
     ]
    }
   ],
   "source": [
    "pizza = ['Cheese', 'Sauce', 'Pep']\n",
    "flag = True\n",
    "\n",
    "while flag:\n",
    "    print('Current Toppings: ')\n",
    "    print(pizza[0:])\n",
    "    b_r1 = input('Add More? ')\n",
    "    if b_r1 == 'Y':\n",
    "        r2 = input('Enter Topping ')\n",
    "        pizza.append(r2)\n",
    "        print(f'Adding {r2.title()}')\n",
    "        continue\n",
    "    else:\n",
    "        print('Your Pizza: ')\n",
    "        print(pizza[0:])\n",
    "        break"
   ]
  },
  {
   "cell_type": "markdown",
   "metadata": {},
   "source": [
    "Lets clean this code"
   ]
  },
  {
   "cell_type": "code",
   "execution_count": 10,
   "metadata": {},
   "outputs": [
    {
     "name": "stdout",
     "output_type": "stream",
     "text": [
      "What topping would you like?\n"
     ]
    },
    {
     "name": "stdin",
     "output_type": "stream",
     "text": [
      "  Cheese\n"
     ]
    },
    {
     "name": "stdout",
     "output_type": "stream",
     "text": [
      "Your pizza has Cheese\n",
      "Done? \n"
     ]
    },
    {
     "name": "stdin",
     "output_type": "stream",
     "text": [
      "  Yes\n"
     ]
    },
    {
     "name": "stdout",
     "output_type": "stream",
     "text": [
      "Your pizza is done\n"
     ]
    }
   ],
   "source": [
    "custom_pizza = []\n",
    "flag = True\n",
    "while flag:\n",
    "    print('What topping would you like?')\n",
    "    response1 = input(' ')\n",
    "    a = print(f'Your pizza has {response1}')\n",
    "    print('Done? ')\n",
    "    b = input(' '); b\n",
    "    if b == 'Yes':\n",
    "        print('Your pizza is done')\n",
    "        flag = False\n",
    "    else:\n",
    "        continue \n",
    "    "
   ]
  },
  {
   "cell_type": "code",
   "execution_count": 17,
   "metadata": {},
   "outputs": [],
   "source": [
    "import numpy as np"
   ]
  },
  {
   "cell_type": "code",
   "execution_count": 19,
   "metadata": {},
   "outputs": [],
   "source": []
  },
  {
   "cell_type": "code",
   "execution_count": 21,
   "metadata": {},
   "outputs": [
    {
     "name": "stdout",
     "output_type": "stream",
     "text": [
      "None\n"
     ]
    }
   ],
   "source": []
  },
  {
   "cell_type": "code",
   "execution_count": 22,
   "metadata": {},
   "outputs": [],
   "source": [
    "x = 17 / 2 % 2 * 3**3"
   ]
  },
  {
   "cell_type": "code",
   "execution_count": 23,
   "metadata": {},
   "outputs": [
    {
     "name": "stdout",
     "output_type": "stream",
     "text": [
      "13.5\n"
     ]
    }
   ],
   "source": [
    "print(x)"
   ]
  },
  {
   "cell_type": "code",
   "execution_count": null,
   "metadata": {},
   "outputs": [],
   "source": []
  }
 ],
 "metadata": {
  "kernelspec": {
   "display_name": "Python 3",
   "language": "python",
   "name": "python3"
  },
  "language_info": {
   "codemirror_mode": {
    "name": "ipython",
    "version": 3
   },
   "file_extension": ".py",
   "mimetype": "text/x-python",
   "name": "python",
   "nbconvert_exporter": "python",
   "pygments_lexer": "ipython3",
   "version": "3.8.3"
  }
 },
 "nbformat": 4,
 "nbformat_minor": 4
}
